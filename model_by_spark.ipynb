{
  "nbformat": 4,
  "nbformat_minor": 0,
  "metadata": {
    "colab": {
      "provenance": []
    },
    "kernelspec": {
      "name": "python3",
      "display_name": "Python 3"
    },
    "language_info": {
      "name": "python"
    }
  },
  "cells": [
    {
      "cell_type": "code",
      "execution_count": 2,
      "metadata": {
        "colab": {
          "base_uri": "https://localhost:8080/"
        },
        "id": "53wSqxdySNAp",
        "outputId": "7cfca21d-7751-42c8-d6e7-fd43824cd72f"
      },
      "outputs": [
        {
          "output_type": "stream",
          "name": "stdout",
          "text": [
            "Collecting pyspark\n",
            "  Downloading pyspark-3.5.2.tar.gz (317.3 MB)\n",
            "\u001b[2K     \u001b[90m━━━━━━━━━━━━━━━━━━━━━━━━━━━━━━━━━━━━━━━━\u001b[0m \u001b[32m317.3/317.3 MB\u001b[0m \u001b[31m4.8 MB/s\u001b[0m eta \u001b[36m0:00:00\u001b[0m\n",
            "\u001b[?25h  Preparing metadata (setup.py) ... \u001b[?25l\u001b[?25hdone\n",
            "Requirement already satisfied: py4j==0.10.9.7 in /usr/local/lib/python3.10/dist-packages (from pyspark) (0.10.9.7)\n",
            "Building wheels for collected packages: pyspark\n",
            "  Building wheel for pyspark (setup.py) ... \u001b[?25l\u001b[?25hdone\n",
            "  Created wheel for pyspark: filename=pyspark-3.5.2-py2.py3-none-any.whl size=317812365 sha256=baee2349478661f9ac89501ff5f74cd8788d052798a3534b735a6cec4ecc0bcc\n",
            "  Stored in directory: /root/.cache/pip/wheels/34/34/bd/03944534c44b677cd5859f248090daa9fb27b3c8f8e5f49574\n",
            "Successfully built pyspark\n",
            "Installing collected packages: pyspark\n",
            "Successfully installed pyspark-3.5.2\n"
          ]
        }
      ],
      "source": [
        "pip install pyspark"
      ]
    },
    {
      "cell_type": "code",
      "source": [
        "from pyspark.sql import SparkSession\n",
        "\n",
        "# Créer une session Spark\n",
        "spark = SparkSession.builder \\\n",
        "    .appName(\"PlanetDiscoveryAnalysis\") \\\n",
        "    .getOrCreate()\n",
        "\n",
        "# Chemin vers le fichier CSV\n",
        "file_path = \"planets_dataset.csv\"\n",
        "\n",
        "# Lecture du fichier CSV dans un DataFrame Spark\n",
        "planets_df = spark.read.csv(file_path, header=True, inferSchema=True)\n",
        "\n",
        "# Afficher le schéma des données pour vérifier les types de colonnes\n",
        "planets_df.printSchema()\n"
      ],
      "metadata": {
        "colab": {
          "base_uri": "https://localhost:8080/"
        },
        "id": "0iKlf5szSx9e",
        "outputId": "93e7cc19-e379-45d8-ebe1-0982720dda86"
      },
      "execution_count": 15,
      "outputs": [
        {
          "output_type": "stream",
          "name": "stdout",
          "text": [
            "root\n",
            " |-- Name: string (nullable = true)\n",
            " |-- Num_Moons: integer (nullable = true)\n",
            " |-- Minerals: integer (nullable = true)\n",
            " |-- Gravity: double (nullable = true)\n",
            " |-- Sunlight_Hours: double (nullable = true)\n",
            " |-- Temperature: double (nullable = true)\n",
            " |-- Rotation_Time: double (nullable = true)\n",
            " |-- Water_Presence: integer (nullable = true)\n",
            " |-- Colonisable: integer (nullable = true)\n",
            "\n"
          ]
        }
      ]
    },
    {
      "cell_type": "code",
      "source": [
        "# Calculer la masse moyenne des planètes\n",
        "mass_avg = planets_df.agg({\"Gravity\": \"avg\"}).alias(\"Masse Moyenne\")\n",
        "mass_avg.show()\n"
      ],
      "metadata": {
        "colab": {
          "base_uri": "https://localhost:8080/"
        },
        "id": "CacX_PpyS5Bo",
        "outputId": "27f5fa4d-8380-47d1-ae26-d48f3519e2a8"
      },
      "execution_count": 16,
      "outputs": [
        {
          "output_type": "stream",
          "name": "stdout",
          "text": [
            "+------------------+\n",
            "|      avg(Gravity)|\n",
            "+------------------+\n",
            "|1.5475425398260738|\n",
            "+------------------+\n",
            "\n"
          ]
        }
      ]
    },
    {
      "cell_type": "code",
      "source": [
        "# Distribution du nombre de lunes des planètes\n",
        "moons_distribution = planets_df.groupBy(\"Num_Moons\").count()\n",
        "moons_distribution.show()\n"
      ],
      "metadata": {
        "colab": {
          "base_uri": "https://localhost:8080/"
        },
        "id": "x5tyhiVGWu32",
        "outputId": "7fa2a8ca-7775-4508-ad7a-ca6065b51c71"
      },
      "execution_count": 17,
      "outputs": [
        {
          "output_type": "stream",
          "name": "stdout",
          "text": [
            "+---------+-----+\n",
            "|Num_Moons|count|\n",
            "+---------+-----+\n",
            "|        1|10045|\n",
            "|        6| 9939|\n",
            "|        3|10008|\n",
            "|        5|10073|\n",
            "|        9| 9828|\n",
            "|        4|10059|\n",
            "|        8| 9925|\n",
            "|        7|10119|\n",
            "|        2|10171|\n",
            "|        0| 9833|\n",
            "+---------+-----+\n",
            "\n"
          ]
        }
      ]
    },
    {
      "cell_type": "code",
      "source": [
        "from pyspark.ml.feature import VectorAssembler\n",
        "\n",
        "# Assembler les colonnes de caractéristiques\n",
        "assembler = VectorAssembler(\n",
        "    inputCols=[\"Gravity\", \"Num_Moons\", \"Sunlight_Hours\", \"Temperature\", \"Rotation_Time\"],\n",
        "    outputCol=\"features\"\n",
        ")\n",
        "\n",
        "# Appliquer l'assemblage pour créer les features\n",
        "ml_data = assembler.transform(planets_df)\n",
        "\n",
        "# Sélectionner les caractéristiques et la cible (Colonisable)\n",
        "ml_data = ml_data.select(\"features\", \"Colonisable\")\n"
      ],
      "metadata": {
        "id": "hTOa5d6tYDWs"
      },
      "execution_count": 18,
      "outputs": []
    },
    {
      "cell_type": "code",
      "source": [
        "from pyspark.sql.functions import col, when\n",
        "\n",
        "# Convertir la colonne 'Colonisable' en entier (1 pour True, 0 pour False)\n",
        "ml_data = ml_data.withColumn(\"Colonisable\", when(col(\"Colonisable\") == 1.0, 1).otherwise(0))\n"
      ],
      "metadata": {
        "id": "PTsVEX5VYMSZ"
      },
      "execution_count": 20,
      "outputs": []
    },
    {
      "cell_type": "code",
      "source": [
        "from pyspark.ml.classification import LogisticRegression\n",
        "\n",
        "# Initialiser le modèle de régression logistique\n",
        "lr = LogisticRegression(featuresCol='features', labelCol='Colonisable')\n",
        "\n",
        "# Entraîner le modèle\n",
        "model = lr.fit(ml_data)\n",
        "\n",
        "# Faire des prédictions\n",
        "predictions = model.transform(ml_data)\n",
        "predictions.select(\"features\", \"Colonisable\", \"prediction\").show()\n"
      ],
      "metadata": {
        "colab": {
          "base_uri": "https://localhost:8080/"
        },
        "id": "fOowG8ZQYhex",
        "outputId": "a47b00df-1eaf-460d-d707-0c49cfc85eff"
      },
      "execution_count": 21,
      "outputs": [
        {
          "output_type": "stream",
          "name": "stdout",
          "text": [
            "+--------------------+-----------+----------+\n",
            "|            features|Colonisable|prediction|\n",
            "+--------------------+-----------+----------+\n",
            "|[1.98160285946924...|          0|       0.0|\n",
            "|[1.38815048308067...|          0|       0.0|\n",
            "|[2.53082672515200...|          0|       0.0|\n",
            "|[0.27219740413253...|          0|       0.0|\n",
            "|[1.73105991307994...|          0|       0.0|\n",
            "|[2.32248535362167...|          0|       0.0|\n",
            "|[1.27298319329060...|          0|       0.0|\n",
            "|[0.56606721098957...|          0|       0.0|\n",
            "|[0.84005516112389...|          0|       0.0|\n",
            "|[2.40329834626856...|          0|       0.0|\n",
            "|[1.60799048076341...|          0|       0.0|\n",
            "|[0.53131129377391...|          0|       0.0|\n",
            "|[1.82827629773893...|          0|       0.0|\n",
            "|[0.73466116785639...|          0|       0.0|\n",
            "|[1.25695583878599...|          0|       0.0|\n",
            "|[1.17737973236620...|          0|       0.0|\n",
            "|[0.34418261967006...|          0|       0.0|\n",
            "|[1.19896489552282...|          0|       0.0|\n",
            "|[0.48054407242641...|          0|       0.0|\n",
            "|[1.74069843940775...|          0|       0.0|\n",
            "+--------------------+-----------+----------+\n",
            "only showing top 20 rows\n",
            "\n"
          ]
        }
      ]
    },
    {
      "cell_type": "code",
      "source": [
        "from pyspark.ml.evaluation import MulticlassClassificationEvaluator\n",
        "\n",
        "# Évaluer la précision du modèle\n",
        "evaluator = MulticlassClassificationEvaluator(labelCol=\"Colonisable\", predictionCol=\"prediction\", metricName=\"accuracy\")\n",
        "accuracy = evaluator.evaluate(predictions)\n",
        "print(f\"Précision du modèle : {accuracy}\")\n"
      ],
      "metadata": {
        "colab": {
          "base_uri": "https://localhost:8080/"
        },
        "id": "YPFurmAPYqHV",
        "outputId": "d997184c-8fdc-48d3-86a6-16ef7dcf7607"
      },
      "execution_count": 22,
      "outputs": [
        {
          "output_type": "stream",
          "name": "stdout",
          "text": [
            "Précision du modèle : 0.9441\n"
          ]
        }
      ]
    },
    {
      "cell_type": "code",
      "source": [
        "# Compter les colonisables et non colonisables\n",
        "ml_data.groupBy(\"Colonisable\").count().show()\n"
      ],
      "metadata": {
        "colab": {
          "base_uri": "https://localhost:8080/"
        },
        "id": "Ogg9jPvSZKcd",
        "outputId": "eed707b6-cf15-420c-88ca-4019523302c2"
      },
      "execution_count": 23,
      "outputs": [
        {
          "output_type": "stream",
          "name": "stdout",
          "text": [
            "+-----------+-----+\n",
            "|Colonisable|count|\n",
            "+-----------+-----+\n",
            "|          1| 5590|\n",
            "|          0|94410|\n",
            "+-----------+-----+\n",
            "\n"
          ]
        }
      ]
    },
    {
      "cell_type": "code",
      "source": [
        "# Diviser les données en un ensemble d'entraînement et un ensemble de test (70% entraînement, 30% test)\n",
        "train_data, test_data = ml_data.randomSplit([0.7, 0.3], seed=42)\n",
        "\n",
        "# Entraîner le modèle sur les données d'entraînement\n",
        "model = lr.fit(train_data)\n",
        "\n",
        "# Faire des prédictions sur les données de test\n",
        "test_predictions = model.transform(test_data)\n",
        "\n",
        "# Évaluer la précision sur l'ensemble de test\n",
        "test_accuracy = evaluator.evaluate(test_predictions)\n",
        "print(f\"Précision du modèle sur les données de test : {test_accuracy}\")\n"
      ],
      "metadata": {
        "colab": {
          "base_uri": "https://localhost:8080/"
        },
        "id": "AJc7UIDGaf9O",
        "outputId": "5033a24d-d4d9-4de7-ab31-a75a51a22bf1"
      },
      "execution_count": 24,
      "outputs": [
        {
          "output_type": "stream",
          "name": "stdout",
          "text": [
            "Précision du modèle sur les données de test : 0.9437673222693425\n"
          ]
        }
      ]
    },
    {
      "cell_type": "code",
      "source": [
        "# Évaluer d'autres métriques : F1-score, précision et rappel\n",
        "evaluator_f1 = MulticlassClassificationEvaluator(labelCol=\"Colonisable\", predictionCol=\"prediction\", metricName=\"f1\")\n",
        "f1_score = evaluator_f1.evaluate(test_predictions)\n",
        "print(f\"F1-Score du modèle : {f1_score}\")\n"
      ],
      "metadata": {
        "colab": {
          "base_uri": "https://localhost:8080/"
        },
        "id": "WYclUo7javSH",
        "outputId": "5252fe34-aa12-430a-c4c0-bda31465e90b"
      },
      "execution_count": 25,
      "outputs": [
        {
          "output_type": "stream",
          "name": "stdout",
          "text": [
            "F1-Score du modèle : 0.9164643816972486\n"
          ]
        }
      ]
    },
    {
      "cell_type": "code",
      "source": [
        "from pyspark.ml.classification import DecisionTreeClassifier\n",
        "\n",
        "# Initialiser un modèle d'arbre de décision\n",
        "dt = DecisionTreeClassifier(featuresCol=\"features\", labelCol=\"Colonisable\")\n",
        "\n",
        "# Entraîner le modèle\n",
        "dt_model = dt.fit(ml_data)\n",
        "\n",
        "# Faire des prédictions\n",
        "dt_predictions = dt_model.transform(ml_data)\n",
        "dt_predictions.select(\"features\", \"Colonisable\", \"prediction\").show()\n"
      ],
      "metadata": {
        "colab": {
          "base_uri": "https://localhost:8080/"
        },
        "id": "Cfjk18SWbpNH",
        "outputId": "52d0dd4a-37fb-4377-a72a-b4ed67a719a3"
      },
      "execution_count": 26,
      "outputs": [
        {
          "output_type": "stream",
          "name": "stdout",
          "text": [
            "+--------------------+-----------+----------+\n",
            "|            features|Colonisable|prediction|\n",
            "+--------------------+-----------+----------+\n",
            "|[1.98160285946924...|          0|       0.0|\n",
            "|[1.38815048308067...|          0|       0.0|\n",
            "|[2.53082672515200...|          0|       0.0|\n",
            "|[0.27219740413253...|          0|       0.0|\n",
            "|[1.73105991307994...|          0|       0.0|\n",
            "|[2.32248535362167...|          0|       0.0|\n",
            "|[1.27298319329060...|          0|       0.0|\n",
            "|[0.56606721098957...|          0|       0.0|\n",
            "|[0.84005516112389...|          0|       0.0|\n",
            "|[2.40329834626856...|          0|       0.0|\n",
            "|[1.60799048076341...|          0|       0.0|\n",
            "|[0.53131129377391...|          0|       0.0|\n",
            "|[1.82827629773893...|          0|       0.0|\n",
            "|[0.73466116785639...|          0|       0.0|\n",
            "|[1.25695583878599...|          0|       0.0|\n",
            "|[1.17737973236620...|          0|       0.0|\n",
            "|[0.34418261967006...|          0|       0.0|\n",
            "|[1.19896489552282...|          0|       0.0|\n",
            "|[0.48054407242641...|          0|       0.0|\n",
            "|[1.74069843940775...|          0|       0.0|\n",
            "+--------------------+-----------+----------+\n",
            "only showing top 20 rows\n",
            "\n"
          ]
        }
      ]
    },
    {
      "cell_type": "code",
      "source": [
        "from pyspark.ml.evaluation import MulticlassClassificationEvaluator\n",
        "\n",
        "# Évaluer la précision du modèle\n",
        "evaluator = MulticlassClassificationEvaluator(labelCol=\"Colonisable\", predictionCol=\"prediction\", metricName=\"accuracy\")\n",
        "dt_accuracy = evaluator.evaluate(dt_predictions)\n",
        "print(f\"Précision de l'Arbre de Décision : {dt_accuracy}\")\n"
      ],
      "metadata": {
        "colab": {
          "base_uri": "https://localhost:8080/"
        },
        "id": "IwaF34RIbthF",
        "outputId": "009bb32d-d57c-4a48-bf49-71af19023b4f"
      },
      "execution_count": 27,
      "outputs": [
        {
          "output_type": "stream",
          "name": "stdout",
          "text": [
            "Précision de l'Arbre de Décision : 0.9441\n"
          ]
        }
      ]
    },
    {
      "cell_type": "code",
      "source": [
        "from pyspark.ml.classification import RandomForestClassifier\n",
        "\n",
        "# Initialiser le modèle de Forêt Aléatoire\n",
        "rf = RandomForestClassifier(featuresCol=\"features\", labelCol=\"Colonisable\", numTrees=10)\n",
        "\n",
        "# Entraîner le modèle\n",
        "rf_model = rf.fit(ml_data)\n",
        "\n",
        "# Faire des prédictions\n",
        "rf_predictions = rf_model.transform(ml_data)\n",
        "rf_predictions.select(\"features\", \"Colonisable\", \"prediction\").show()\n"
      ],
      "metadata": {
        "colab": {
          "base_uri": "https://localhost:8080/"
        },
        "id": "d16LQK0Cb_kC",
        "outputId": "a067ed84-eb2a-444e-965b-8ebef0bc1f4c"
      },
      "execution_count": 28,
      "outputs": [
        {
          "output_type": "stream",
          "name": "stdout",
          "text": [
            "+--------------------+-----------+----------+\n",
            "|            features|Colonisable|prediction|\n",
            "+--------------------+-----------+----------+\n",
            "|[1.98160285946924...|          0|       0.0|\n",
            "|[1.38815048308067...|          0|       0.0|\n",
            "|[2.53082672515200...|          0|       0.0|\n",
            "|[0.27219740413253...|          0|       0.0|\n",
            "|[1.73105991307994...|          0|       0.0|\n",
            "|[2.32248535362167...|          0|       0.0|\n",
            "|[1.27298319329060...|          0|       0.0|\n",
            "|[0.56606721098957...|          0|       0.0|\n",
            "|[0.84005516112389...|          0|       0.0|\n",
            "|[2.40329834626856...|          0|       0.0|\n",
            "|[1.60799048076341...|          0|       0.0|\n",
            "|[0.53131129377391...|          0|       0.0|\n",
            "|[1.82827629773893...|          0|       0.0|\n",
            "|[0.73466116785639...|          0|       0.0|\n",
            "|[1.25695583878599...|          0|       0.0|\n",
            "|[1.17737973236620...|          0|       0.0|\n",
            "|[0.34418261967006...|          0|       0.0|\n",
            "|[1.19896489552282...|          0|       0.0|\n",
            "|[0.48054407242641...|          0|       0.0|\n",
            "|[1.74069843940775...|          0|       0.0|\n",
            "+--------------------+-----------+----------+\n",
            "only showing top 20 rows\n",
            "\n"
          ]
        }
      ]
    },
    {
      "cell_type": "code",
      "source": [
        "# Évaluer la précision du modèle\n",
        "rf_accuracy = evaluator.evaluate(rf_predictions)\n",
        "print(f\"Précision de la Forêt Aléatoire : {rf_accuracy}\")\n"
      ],
      "metadata": {
        "colab": {
          "base_uri": "https://localhost:8080/"
        },
        "id": "hhza2-DucG09",
        "outputId": "ab7882a7-40e0-491f-ad5e-ba36f4e04089"
      },
      "execution_count": 29,
      "outputs": [
        {
          "output_type": "stream",
          "name": "stdout",
          "text": [
            "Précision de la Forêt Aléatoire : 0.9441\n"
          ]
        }
      ]
    },
    {
      "cell_type": "code",
      "source": [
        "from pyspark.ml.regression import LinearRegression\n",
        "\n",
        "# Assembler les colonnes de caractéristiques pour la régression (exclure la cible \"Colonisable\")\n",
        "assembler = VectorAssembler(\n",
        "    inputCols=[\"Num_Moons\", \"Minerals\", \"Sunlight_Hours\", \"Temperature\", \"Rotation_Time\", \"Water_Presence\"],\n",
        "    outputCol=\"features\"\n",
        ")\n",
        "ml_data_reg = assembler.transform(planets_df)\n",
        "\n",
        "# Entraîner un modèle de régression linéaire pour prédire la gravité\n",
        "lr = LinearRegression(featuresCol=\"features\", labelCol=\"Gravity\")\n",
        "lr_model = lr.fit(ml_data_reg)\n",
        "\n",
        "# Faire des prédictions\n",
        "lr_predictions = lr_model.transform(ml_data_reg)\n",
        "lr_predictions.select(\"features\", \"Gravity\", \"prediction\").show()\n"
      ],
      "metadata": {
        "colab": {
          "base_uri": "https://localhost:8080/"
        },
        "id": "jyeSlNQAcNNo",
        "outputId": "21db1e9f-9edd-4c8b-ed9a-e77074330416"
      },
      "execution_count": 30,
      "outputs": [
        {
          "output_type": "stream",
          "name": "stdout",
          "text": [
            "+--------------------+-------------------+------------------+\n",
            "|            features|            Gravity|        prediction|\n",
            "+--------------------+-------------------+------------------+\n",
            "|[5.0,59.0,5.81681...|  1.981602859469247|1.5517093902228312|\n",
            "|[8.0,672.0,14.715...| 1.3881504830806715|1.5492688159240475|\n",
            "|[3.0,764.0,22.902...| 2.5308267251520093| 1.547190240209926|\n",
            "|[4.0,881.0,1.1764...|  0.272197404132533|1.5451714063273365|\n",
            "|[7.0,1003.0,21.48...| 1.7310599130799436|1.5490842269264082|\n",
            "|[4.0,900.0,13.416...| 2.3224853536216754| 1.546145594424239|\n",
            "|[1.0,877.0,5.6888...| 1.2729831932906077|1.5441437138902177|\n",
            "|[7.0,515.0,9.3069...| 0.5660672109895787| 1.549538246155466|\n",
            "|[3.0,743.0,0.6059...| 0.8400551611238913| 1.544879194274711|\n",
            "|[0.0,576.0,18.218...| 2.4032983462685635|1.5483533540488346|\n",
            "|[0.0,417.0,6.7932...| 1.6079904807634198|1.5494070834346465|\n",
            "|[1.0,751.0,19.917...| 0.5313112937739153|1.5464127294091257|\n",
            "|[9.0,879.0,13.556...|  1.828276297738934|1.5464945687582978|\n",
            "|[2.0,60.0,7.62546...| 0.7346611678563922|1.5498934019878596|\n",
            "|[1.0,70.0,22.0514...|  1.256955838785993| 1.550248896512143|\n",
            "|[8.0,161.0,13.019...| 1.1773797323662074|1.5500234171297134|\n",
            "|[0.0,180.0,11.618...| 0.3441826196700668|1.5470599346223688|\n",
            "|[5.0,767.0,9.8852...| 1.1989648955228238|1.5451332161687072|\n",
            "|[6.0,242.0,20.790...|0.48054407242641684|1.5481276666856063|\n",
            "|[6.0,336.0,10.999...| 1.7406984394077567|1.5476971306443355|\n",
            "+--------------------+-------------------+------------------+\n",
            "only showing top 20 rows\n",
            "\n"
          ]
        }
      ]
    },
    {
      "cell_type": "code",
      "source": [
        "from pyspark.ml.evaluation import RegressionEvaluator\n",
        "\n",
        "# Évaluer la précision du modèle\n",
        "evaluator = RegressionEvaluator(labelCol=\"Gravity\", predictionCol=\"prediction\", metricName=\"rmse\")\n",
        "rmse = evaluator.evaluate(lr_predictions)\n",
        "print(f\"Erreur quadratique moyenne (RMSE) du modèle de régression linéaire : {rmse}\")\n"
      ],
      "metadata": {
        "colab": {
          "base_uri": "https://localhost:8080/"
        },
        "id": "AkKKMcBpceh-",
        "outputId": "317b4f67-8c1e-44f2-c466-c96111c0c0f7"
      },
      "execution_count": 31,
      "outputs": [
        {
          "output_type": "stream",
          "name": "stdout",
          "text": [
            "Erreur quadratique moyenne (RMSE) du modèle de régression linéaire : 0.8381086402387488\n"
          ]
        }
      ]
    },
    {
      "cell_type": "code",
      "source": [
        "from pyspark.ml.classification import LinearSVC\n",
        "\n",
        "# Initialiser le modèle SVM linéaire\n",
        "svm = LinearSVC(featuresCol=\"features\", labelCol=\"Colonisable\")\n",
        "\n",
        "# Entraîner le modèle SVM\n",
        "svm_model = svm.fit(ml_data)\n",
        "\n",
        "# Faire des prédictions\n",
        "svm_predictions = svm_model.transform(ml_data)\n",
        "\n",
        "# Afficher les prédictions\n",
        "svm_predictions.select(\"features\", \"Colonisable\", \"prediction\").show()\n"
      ],
      "metadata": {
        "colab": {
          "base_uri": "https://localhost:8080/"
        },
        "id": "hAwaEQkwcl2o",
        "outputId": "969a89ac-4765-4c9b-b286-711d854cb081"
      },
      "execution_count": 32,
      "outputs": [
        {
          "output_type": "stream",
          "name": "stdout",
          "text": [
            "+--------------------+-----------+----------+\n",
            "|            features|Colonisable|prediction|\n",
            "+--------------------+-----------+----------+\n",
            "|[1.98160285946924...|          0|       0.0|\n",
            "|[1.38815048308067...|          0|       0.0|\n",
            "|[2.53082672515200...|          0|       0.0|\n",
            "|[0.27219740413253...|          0|       0.0|\n",
            "|[1.73105991307994...|          0|       0.0|\n",
            "|[2.32248535362167...|          0|       0.0|\n",
            "|[1.27298319329060...|          0|       0.0|\n",
            "|[0.56606721098957...|          0|       0.0|\n",
            "|[0.84005516112389...|          0|       0.0|\n",
            "|[2.40329834626856...|          0|       0.0|\n",
            "|[1.60799048076341...|          0|       0.0|\n",
            "|[0.53131129377391...|          0|       0.0|\n",
            "|[1.82827629773893...|          0|       0.0|\n",
            "|[0.73466116785639...|          0|       0.0|\n",
            "|[1.25695583878599...|          0|       0.0|\n",
            "|[1.17737973236620...|          0|       0.0|\n",
            "|[0.34418261967006...|          0|       0.0|\n",
            "|[1.19896489552282...|          0|       0.0|\n",
            "|[0.48054407242641...|          0|       0.0|\n",
            "|[1.74069843940775...|          0|       0.0|\n",
            "+--------------------+-----------+----------+\n",
            "only showing top 20 rows\n",
            "\n"
          ]
        }
      ]
    },
    {
      "cell_type": "code",
      "source": [
        "from pyspark.ml.evaluation import MulticlassClassificationEvaluator\n",
        "\n",
        "# Initialiser un évaluateur de classification multiclasse\n",
        "evaluator = MulticlassClassificationEvaluator(labelCol=\"Colonisable\", predictionCol=\"prediction\", metricName=\"accuracy\")\n",
        "\n",
        "# Évaluer la précision du modèle SVM\n",
        "svm_accuracy = evaluator.evaluate(svm_predictions)\n",
        "print(f\"Précision du modèle SVM : {svm_accuracy}\")\n"
      ],
      "metadata": {
        "colab": {
          "base_uri": "https://localhost:8080/"
        },
        "id": "-lZ1tOHSdGLl",
        "outputId": "c9f5724e-8bf5-45df-f6e2-e0cbba72793f"
      },
      "execution_count": 34,
      "outputs": [
        {
          "output_type": "stream",
          "name": "stdout",
          "text": [
            "Précision du modèle SVM : 0.9441\n"
          ]
        }
      ]
    },
    {
      "cell_type": "code",
      "source": [
        "from pyspark.ml.classification import GBTClassifier\n",
        "\n",
        "# Initialiser un modèle d'arbres boostés par gradient\n",
        "gbt = GBTClassifier(featuresCol=\"features\", labelCol=\"Colonisable\", maxIter=10)\n",
        "\n",
        "# Entraîner le modèle\n",
        "gbt_model = gbt.fit(ml_data)\n",
        "\n",
        "# Faire des prédictions\n",
        "gbt_predictions = gbt_model.transform(ml_data)\n",
        "\n",
        "# Afficher les prédictions\n",
        "gbt_predictions.select(\"features\", \"Colonisable\", \"prediction\").show()\n"
      ],
      "metadata": {
        "colab": {
          "base_uri": "https://localhost:8080/"
        },
        "id": "DQsflTEmdt2H",
        "outputId": "b6a5ca66-2720-4385-8554-45fc3eb399e9"
      },
      "execution_count": 35,
      "outputs": [
        {
          "output_type": "stream",
          "name": "stdout",
          "text": [
            "+--------------------+-----------+----------+\n",
            "|            features|Colonisable|prediction|\n",
            "+--------------------+-----------+----------+\n",
            "|[1.98160285946924...|          0|       0.0|\n",
            "|[1.38815048308067...|          0|       0.0|\n",
            "|[2.53082672515200...|          0|       0.0|\n",
            "|[0.27219740413253...|          0|       0.0|\n",
            "|[1.73105991307994...|          0|       0.0|\n",
            "|[2.32248535362167...|          0|       0.0|\n",
            "|[1.27298319329060...|          0|       0.0|\n",
            "|[0.56606721098957...|          0|       0.0|\n",
            "|[0.84005516112389...|          0|       0.0|\n",
            "|[2.40329834626856...|          0|       0.0|\n",
            "|[1.60799048076341...|          0|       0.0|\n",
            "|[0.53131129377391...|          0|       0.0|\n",
            "|[1.82827629773893...|          0|       0.0|\n",
            "|[0.73466116785639...|          0|       0.0|\n",
            "|[1.25695583878599...|          0|       0.0|\n",
            "|[1.17737973236620...|          0|       0.0|\n",
            "|[0.34418261967006...|          0|       0.0|\n",
            "|[1.19896489552282...|          0|       0.0|\n",
            "|[0.48054407242641...|          0|       0.0|\n",
            "|[1.74069843940775...|          0|       0.0|\n",
            "+--------------------+-----------+----------+\n",
            "only showing top 20 rows\n",
            "\n"
          ]
        }
      ]
    },
    {
      "cell_type": "code",
      "source": [
        "# Évaluer le modèle GBT avec la courbe ROC\n",
        "gbt_auc = evaluator.evaluate(gbt_predictions)\n",
        "print(f\"Aire sous la courbe ROC (GBT) : {gbt_auc}\")\n"
      ],
      "metadata": {
        "colab": {
          "base_uri": "https://localhost:8080/"
        },
        "id": "D9KouGLFd8-F",
        "outputId": "4aa0a119-c67f-4630-a3a6-109b04609499"
      },
      "execution_count": 36,
      "outputs": [
        {
          "output_type": "stream",
          "name": "stdout",
          "text": [
            "Aire sous la courbe ROC (GBT) : 0.9441\n"
          ]
        }
      ]
    }
  ]
}